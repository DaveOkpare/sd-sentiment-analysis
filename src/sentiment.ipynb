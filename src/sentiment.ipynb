{
 "cells": [
  {
   "cell_type": "code",
   "execution_count": 86,
   "id": "cd83c34e",
   "metadata": {},
   "outputs": [],
   "source": [
    "import pandas as pd\n",
    "import numpy as np\n",
    "import matplotlib.pyplot as plt\n",
    "import re\n",
    "from collections import Counter\n",
    "import itertools\n",
    "import nltk\n",
    "from nltk.corpus import stopwords"
   ]
  },
  {
   "cell_type": "code",
   "execution_count": 2,
   "id": "b3352d5b",
   "metadata": {},
   "outputs": [],
   "source": [
    "dataset = 'Twitter-sentiment-self-drive-DFE.csv'"
   ]
  },
  {
   "cell_type": "code",
   "execution_count": 3,
   "id": "e522b9c0",
   "metadata": {},
   "outputs": [],
   "source": [
    "df = pd.read_csv(dataset)"
   ]
  },
  {
   "cell_type": "code",
   "execution_count": 4,
   "id": "0b8e34f6",
   "metadata": {},
   "outputs": [
    {
     "data": {
      "text/html": [
       "<div>\n",
       "<style scoped>\n",
       "    .dataframe tbody tr th:only-of-type {\n",
       "        vertical-align: middle;\n",
       "    }\n",
       "\n",
       "    .dataframe tbody tr th {\n",
       "        vertical-align: top;\n",
       "    }\n",
       "\n",
       "    .dataframe thead th {\n",
       "        text-align: right;\n",
       "    }\n",
       "</style>\n",
       "<table border=\"1\" class=\"dataframe\">\n",
       "  <thead>\n",
       "    <tr style=\"text-align: right;\">\n",
       "      <th></th>\n",
       "      <th>_unit_id</th>\n",
       "      <th>_golden</th>\n",
       "      <th>_unit_state</th>\n",
       "      <th>_trusted_judgments</th>\n",
       "      <th>_last_judgment_at</th>\n",
       "      <th>sentiment</th>\n",
       "      <th>sentiment:confidence</th>\n",
       "      <th>our_id</th>\n",
       "      <th>sentiment_gold</th>\n",
       "      <th>sentiment_gold_reason</th>\n",
       "      <th>text</th>\n",
       "    </tr>\n",
       "  </thead>\n",
       "  <tbody>\n",
       "    <tr>\n",
       "      <th>0</th>\n",
       "      <td>724227031</td>\n",
       "      <td>True</td>\n",
       "      <td>golden</td>\n",
       "      <td>236</td>\n",
       "      <td>NaN</td>\n",
       "      <td>5</td>\n",
       "      <td>0.7579</td>\n",
       "      <td>10001</td>\n",
       "      <td>5\\n4</td>\n",
       "      <td>Author is excited about the development of the...</td>\n",
       "      <td>Two places I'd invest all my money if I could:...</td>\n",
       "    </tr>\n",
       "    <tr>\n",
       "      <th>1</th>\n",
       "      <td>724227032</td>\n",
       "      <td>True</td>\n",
       "      <td>golden</td>\n",
       "      <td>231</td>\n",
       "      <td>NaN</td>\n",
       "      <td>5</td>\n",
       "      <td>0.8775</td>\n",
       "      <td>10002</td>\n",
       "      <td>5\\n4</td>\n",
       "      <td>Author is excited that driverless cars will be...</td>\n",
       "      <td>Awesome! Google driverless cars will help the ...</td>\n",
       "    </tr>\n",
       "    <tr>\n",
       "      <th>2</th>\n",
       "      <td>724227033</td>\n",
       "      <td>True</td>\n",
       "      <td>golden</td>\n",
       "      <td>233</td>\n",
       "      <td>NaN</td>\n",
       "      <td>2</td>\n",
       "      <td>0.6805</td>\n",
       "      <td>10003</td>\n",
       "      <td>2\\n1</td>\n",
       "      <td>The author is skeptical of the safety and reli...</td>\n",
       "      <td>If Google maps can't keep up with road constru...</td>\n",
       "    </tr>\n",
       "    <tr>\n",
       "      <th>3</th>\n",
       "      <td>724227034</td>\n",
       "      <td>True</td>\n",
       "      <td>golden</td>\n",
       "      <td>240</td>\n",
       "      <td>NaN</td>\n",
       "      <td>2</td>\n",
       "      <td>0.8820</td>\n",
       "      <td>10004</td>\n",
       "      <td>2\\n1</td>\n",
       "      <td>The author is skeptical of the project's value.</td>\n",
       "      <td>Autonomous cars seem way overhyped given the t...</td>\n",
       "    </tr>\n",
       "    <tr>\n",
       "      <th>4</th>\n",
       "      <td>724227035</td>\n",
       "      <td>True</td>\n",
       "      <td>golden</td>\n",
       "      <td>240</td>\n",
       "      <td>NaN</td>\n",
       "      <td>3</td>\n",
       "      <td>1.0000</td>\n",
       "      <td>10005</td>\n",
       "      <td>3</td>\n",
       "      <td>Author is making an observation without expres...</td>\n",
       "      <td>Just saw Google self-driving car on I-34. It w...</td>\n",
       "    </tr>\n",
       "  </tbody>\n",
       "</table>\n",
       "</div>"
      ],
      "text/plain": [
       "    _unit_id  _golden _unit_state  _trusted_judgments _last_judgment_at  \\\n",
       "0  724227031     True      golden                 236               NaN   \n",
       "1  724227032     True      golden                 231               NaN   \n",
       "2  724227033     True      golden                 233               NaN   \n",
       "3  724227034     True      golden                 240               NaN   \n",
       "4  724227035     True      golden                 240               NaN   \n",
       "\n",
       "  sentiment  sentiment:confidence  our_id sentiment_gold  \\\n",
       "0         5                0.7579   10001           5\\n4   \n",
       "1         5                0.8775   10002           5\\n4   \n",
       "2         2                0.6805   10003           2\\n1   \n",
       "3         2                0.8820   10004           2\\n1   \n",
       "4         3                1.0000   10005              3   \n",
       "\n",
       "                               sentiment_gold_reason  \\\n",
       "0  Author is excited about the development of the...   \n",
       "1  Author is excited that driverless cars will be...   \n",
       "2  The author is skeptical of the safety and reli...   \n",
       "3    The author is skeptical of the project's value.   \n",
       "4  Author is making an observation without expres...   \n",
       "\n",
       "                                                text  \n",
       "0  Two places I'd invest all my money if I could:...  \n",
       "1  Awesome! Google driverless cars will help the ...  \n",
       "2  If Google maps can't keep up with road constru...  \n",
       "3  Autonomous cars seem way overhyped given the t...  \n",
       "4  Just saw Google self-driving car on I-34. It w...  "
      ]
     },
     "execution_count": 4,
     "metadata": {},
     "output_type": "execute_result"
    }
   ],
   "source": [
    "df.head()"
   ]
  },
  {
   "cell_type": "code",
   "execution_count": 5,
   "id": "c03bbb6e",
   "metadata": {},
   "outputs": [
    {
     "name": "stdout",
     "output_type": "stream",
     "text": [
      "<class 'pandas.core.frame.DataFrame'>\n",
      "RangeIndex: 7156 entries, 0 to 7155\n",
      "Data columns (total 11 columns):\n",
      " #   Column                 Non-Null Count  Dtype  \n",
      "---  ------                 --------------  -----  \n",
      " 0   _unit_id               7156 non-null   int64  \n",
      " 1   _golden                7156 non-null   bool   \n",
      " 2   _unit_state            7156 non-null   object \n",
      " 3   _trusted_judgments     7156 non-null   int64  \n",
      " 4   _last_judgment_at      7079 non-null   object \n",
      " 5   sentiment              7156 non-null   object \n",
      " 6   sentiment:confidence   7156 non-null   float64\n",
      " 7   our_id                 7156 non-null   int64  \n",
      " 8   sentiment_gold         77 non-null     object \n",
      " 9   sentiment_gold_reason  77 non-null     object \n",
      " 10  text                   7156 non-null   object \n",
      "dtypes: bool(1), float64(1), int64(3), object(6)\n",
      "memory usage: 566.2+ KB\n"
     ]
    }
   ],
   "source": [
    "df.info()"
   ]
  },
  {
   "cell_type": "code",
   "execution_count": 6,
   "id": "740ab71b",
   "metadata": {},
   "outputs": [],
   "source": [
    "df = df.drop(['_unit_id', '_golden', '_unit_state', '_trusted_judgments', '_last_judgment_at', 'our_id', 'sentiment_gold', 'sentiment_gold_reason'], axis='columns')"
   ]
  },
  {
   "cell_type": "code",
   "execution_count": 7,
   "id": "e8c0e754",
   "metadata": {},
   "outputs": [
    {
     "data": {
      "text/html": [
       "<div>\n",
       "<style scoped>\n",
       "    .dataframe tbody tr th:only-of-type {\n",
       "        vertical-align: middle;\n",
       "    }\n",
       "\n",
       "    .dataframe tbody tr th {\n",
       "        vertical-align: top;\n",
       "    }\n",
       "\n",
       "    .dataframe thead th {\n",
       "        text-align: right;\n",
       "    }\n",
       "</style>\n",
       "<table border=\"1\" class=\"dataframe\">\n",
       "  <thead>\n",
       "    <tr style=\"text-align: right;\">\n",
       "      <th></th>\n",
       "      <th>sentiment</th>\n",
       "      <th>sentiment:confidence</th>\n",
       "      <th>text</th>\n",
       "    </tr>\n",
       "  </thead>\n",
       "  <tbody>\n",
       "    <tr>\n",
       "      <th>0</th>\n",
       "      <td>5</td>\n",
       "      <td>0.7579</td>\n",
       "      <td>Two places I'd invest all my money if I could:...</td>\n",
       "    </tr>\n",
       "    <tr>\n",
       "      <th>1</th>\n",
       "      <td>5</td>\n",
       "      <td>0.8775</td>\n",
       "      <td>Awesome! Google driverless cars will help the ...</td>\n",
       "    </tr>\n",
       "    <tr>\n",
       "      <th>2</th>\n",
       "      <td>2</td>\n",
       "      <td>0.6805</td>\n",
       "      <td>If Google maps can't keep up with road constru...</td>\n",
       "    </tr>\n",
       "    <tr>\n",
       "      <th>3</th>\n",
       "      <td>2</td>\n",
       "      <td>0.8820</td>\n",
       "      <td>Autonomous cars seem way overhyped given the t...</td>\n",
       "    </tr>\n",
       "    <tr>\n",
       "      <th>4</th>\n",
       "      <td>3</td>\n",
       "      <td>1.0000</td>\n",
       "      <td>Just saw Google self-driving car on I-34. It w...</td>\n",
       "    </tr>\n",
       "    <tr>\n",
       "      <th>...</th>\n",
       "      <td>...</td>\n",
       "      <td>...</td>\n",
       "      <td>...</td>\n",
       "    </tr>\n",
       "    <tr>\n",
       "      <th>7151</th>\n",
       "      <td>not_relevant</td>\n",
       "      <td>0.5616</td>\n",
       "      <td>Washington DC metro trains are all self-drivin...</td>\n",
       "    </tr>\n",
       "    <tr>\n",
       "      <th>7152</th>\n",
       "      <td>not_relevant</td>\n",
       "      <td>0.7293</td>\n",
       "      <td>I think #DARPA works on autonomous drone techn...</td>\n",
       "    </tr>\n",
       "    <tr>\n",
       "      <th>7153</th>\n",
       "      <td>not_relevant</td>\n",
       "      <td>0.8854</td>\n",
       "      <td>I love the idea of driving myself to the denti...</td>\n",
       "    </tr>\n",
       "    <tr>\n",
       "      <th>7154</th>\n",
       "      <td>not_relevant</td>\n",
       "      <td>0.8431</td>\n",
       "      <td>Who likes cars these days? No me. Too expensiv...</td>\n",
       "    </tr>\n",
       "    <tr>\n",
       "      <th>7155</th>\n",
       "      <td>not_relevant</td>\n",
       "      <td>1.0000</td>\n",
       "      <td>My dream car is a pink cadillac. I'd also need...</td>\n",
       "    </tr>\n",
       "  </tbody>\n",
       "</table>\n",
       "<p>7156 rows × 3 columns</p>\n",
       "</div>"
      ],
      "text/plain": [
       "         sentiment  sentiment:confidence  \\\n",
       "0                5                0.7579   \n",
       "1                5                0.8775   \n",
       "2                2                0.6805   \n",
       "3                2                0.8820   \n",
       "4                3                1.0000   \n",
       "...            ...                   ...   \n",
       "7151  not_relevant                0.5616   \n",
       "7152  not_relevant                0.7293   \n",
       "7153  not_relevant                0.8854   \n",
       "7154  not_relevant                0.8431   \n",
       "7155  not_relevant                1.0000   \n",
       "\n",
       "                                                   text  \n",
       "0     Two places I'd invest all my money if I could:...  \n",
       "1     Awesome! Google driverless cars will help the ...  \n",
       "2     If Google maps can't keep up with road constru...  \n",
       "3     Autonomous cars seem way overhyped given the t...  \n",
       "4     Just saw Google self-driving car on I-34. It w...  \n",
       "...                                                 ...  \n",
       "7151  Washington DC metro trains are all self-drivin...  \n",
       "7152  I think #DARPA works on autonomous drone techn...  \n",
       "7153  I love the idea of driving myself to the denti...  \n",
       "7154  Who likes cars these days? No me. Too expensiv...  \n",
       "7155  My dream car is a pink cadillac. I'd also need...  \n",
       "\n",
       "[7156 rows x 3 columns]"
      ]
     },
     "execution_count": 7,
     "metadata": {},
     "output_type": "execute_result"
    }
   ],
   "source": [
    "df"
   ]
  },
  {
   "cell_type": "code",
   "execution_count": 8,
   "id": "876f71b9",
   "metadata": {},
   "outputs": [
    {
     "data": {
      "text/plain": [
       "3               4245\n",
       "4               1444\n",
       "2                685\n",
       "5                459\n",
       "not_relevant     213\n",
       "1                110\n",
       "Name: sentiment, dtype: int64"
      ]
     },
     "execution_count": 8,
     "metadata": {},
     "output_type": "execute_result"
    }
   ],
   "source": [
    "df.sentiment.value_counts()"
   ]
  },
  {
   "cell_type": "code",
   "execution_count": 9,
   "id": "adb81555",
   "metadata": {},
   "outputs": [],
   "source": [
    "df.loc[df['sentiment'] == 'not_relevant', 'sentiment'] = 0"
   ]
  },
  {
   "cell_type": "code",
   "execution_count": 10,
   "id": "02467091",
   "metadata": {},
   "outputs": [
    {
     "data": {
      "text/plain": [
       "3    4245\n",
       "4    1444\n",
       "2     685\n",
       "5     459\n",
       "0     213\n",
       "1     110\n",
       "Name: sentiment, dtype: int64"
      ]
     },
     "execution_count": 10,
     "metadata": {},
     "output_type": "execute_result"
    }
   ],
   "source": [
    "df.sentiment.value_counts()"
   ]
  },
  {
   "cell_type": "code",
   "execution_count": 11,
   "id": "59cc9293",
   "metadata": {},
   "outputs": [
    {
     "data": {
      "text/html": [
       "<div>\n",
       "<style scoped>\n",
       "    .dataframe tbody tr th:only-of-type {\n",
       "        vertical-align: middle;\n",
       "    }\n",
       "\n",
       "    .dataframe tbody tr th {\n",
       "        vertical-align: top;\n",
       "    }\n",
       "\n",
       "    .dataframe thead th {\n",
       "        text-align: right;\n",
       "    }\n",
       "</style>\n",
       "<table border=\"1\" class=\"dataframe\">\n",
       "  <thead>\n",
       "    <tr style=\"text-align: right;\">\n",
       "      <th></th>\n",
       "      <th>sentiment</th>\n",
       "      <th>sentiment:confidence</th>\n",
       "      <th>text</th>\n",
       "    </tr>\n",
       "  </thead>\n",
       "  <tbody>\n",
       "    <tr>\n",
       "      <th>0</th>\n",
       "      <td>5</td>\n",
       "      <td>0.7579</td>\n",
       "      <td>Two places I'd invest all my money if I could:...</td>\n",
       "    </tr>\n",
       "    <tr>\n",
       "      <th>1</th>\n",
       "      <td>5</td>\n",
       "      <td>0.8775</td>\n",
       "      <td>Awesome! Google driverless cars will help the ...</td>\n",
       "    </tr>\n",
       "    <tr>\n",
       "      <th>2</th>\n",
       "      <td>2</td>\n",
       "      <td>0.6805</td>\n",
       "      <td>If Google maps can't keep up with road constru...</td>\n",
       "    </tr>\n",
       "    <tr>\n",
       "      <th>3</th>\n",
       "      <td>2</td>\n",
       "      <td>0.8820</td>\n",
       "      <td>Autonomous cars seem way overhyped given the t...</td>\n",
       "    </tr>\n",
       "    <tr>\n",
       "      <th>4</th>\n",
       "      <td>3</td>\n",
       "      <td>1.0000</td>\n",
       "      <td>Just saw Google self-driving car on I-34. It w...</td>\n",
       "    </tr>\n",
       "    <tr>\n",
       "      <th>...</th>\n",
       "      <td>...</td>\n",
       "      <td>...</td>\n",
       "      <td>...</td>\n",
       "    </tr>\n",
       "    <tr>\n",
       "      <th>7151</th>\n",
       "      <td>0</td>\n",
       "      <td>0.5616</td>\n",
       "      <td>Washington DC metro trains are all self-drivin...</td>\n",
       "    </tr>\n",
       "    <tr>\n",
       "      <th>7152</th>\n",
       "      <td>0</td>\n",
       "      <td>0.7293</td>\n",
       "      <td>I think #DARPA works on autonomous drone techn...</td>\n",
       "    </tr>\n",
       "    <tr>\n",
       "      <th>7153</th>\n",
       "      <td>0</td>\n",
       "      <td>0.8854</td>\n",
       "      <td>I love the idea of driving myself to the denti...</td>\n",
       "    </tr>\n",
       "    <tr>\n",
       "      <th>7154</th>\n",
       "      <td>0</td>\n",
       "      <td>0.8431</td>\n",
       "      <td>Who likes cars these days? No me. Too expensiv...</td>\n",
       "    </tr>\n",
       "    <tr>\n",
       "      <th>7155</th>\n",
       "      <td>0</td>\n",
       "      <td>1.0000</td>\n",
       "      <td>My dream car is a pink cadillac. I'd also need...</td>\n",
       "    </tr>\n",
       "  </tbody>\n",
       "</table>\n",
       "<p>7156 rows × 3 columns</p>\n",
       "</div>"
      ],
      "text/plain": [
       "     sentiment  sentiment:confidence  \\\n",
       "0            5                0.7579   \n",
       "1            5                0.8775   \n",
       "2            2                0.6805   \n",
       "3            2                0.8820   \n",
       "4            3                1.0000   \n",
       "...        ...                   ...   \n",
       "7151         0                0.5616   \n",
       "7152         0                0.7293   \n",
       "7153         0                0.8854   \n",
       "7154         0                0.8431   \n",
       "7155         0                1.0000   \n",
       "\n",
       "                                                   text  \n",
       "0     Two places I'd invest all my money if I could:...  \n",
       "1     Awesome! Google driverless cars will help the ...  \n",
       "2     If Google maps can't keep up with road constru...  \n",
       "3     Autonomous cars seem way overhyped given the t...  \n",
       "4     Just saw Google self-driving car on I-34. It w...  \n",
       "...                                                 ...  \n",
       "7151  Washington DC metro trains are all self-drivin...  \n",
       "7152  I think #DARPA works on autonomous drone techn...  \n",
       "7153  I love the idea of driving myself to the denti...  \n",
       "7154  Who likes cars these days? No me. Too expensiv...  \n",
       "7155  My dream car is a pink cadillac. I'd also need...  \n",
       "\n",
       "[7156 rows x 3 columns]"
      ]
     },
     "execution_count": 11,
     "metadata": {},
     "output_type": "execute_result"
    }
   ],
   "source": [
    "df"
   ]
  },
  {
   "cell_type": "code",
   "execution_count": 12,
   "id": "32e11eaf",
   "metadata": {},
   "outputs": [],
   "source": [
    "df['sentiment'] = df['sentiment'].apply(pd.to_numeric, errors='coerce')"
   ]
  },
  {
   "cell_type": "code",
   "execution_count": 13,
   "id": "f9a8b35b",
   "metadata": {},
   "outputs": [
    {
     "name": "stdout",
     "output_type": "stream",
     "text": [
      "<class 'pandas.core.frame.DataFrame'>\n",
      "RangeIndex: 7156 entries, 0 to 7155\n",
      "Data columns (total 3 columns):\n",
      " #   Column                Non-Null Count  Dtype  \n",
      "---  ------                --------------  -----  \n",
      " 0   sentiment             7156 non-null   int64  \n",
      " 1   sentiment:confidence  7156 non-null   float64\n",
      " 2   text                  7156 non-null   object \n",
      "dtypes: float64(1), int64(1), object(1)\n",
      "memory usage: 167.8+ KB\n"
     ]
    }
   ],
   "source": [
    "df.info()"
   ]
  },
  {
   "cell_type": "code",
   "execution_count": 14,
   "id": "f3209288",
   "metadata": {},
   "outputs": [],
   "source": [
    "def remove_urls(text):\n",
    "    \"\"\"Replace URLs found in a text string with nothing \n",
    "    (i.e. it will remove the URL from the string).\n",
    "\n",
    "    Parameters\n",
    "    ----------\n",
    "    txt : string\n",
    "        A text string that you want to parse and remove urls.\n",
    "\n",
    "    Returns\n",
    "    -------\n",
    "    The same txt string with url's removed.\n",
    "    \"\"\"\n",
    "    return re.sub('([^0-9A-Za-z \\t])|(\\w+:\\/\\/\\S+)', '', text)"
   ]
  },
  {
   "cell_type": "code",
   "execution_count": 15,
   "id": "40c96177",
   "metadata": {},
   "outputs": [],
   "source": [
    "df['text'] = df.text.apply(remove_urls).str.lower()"
   ]
  },
  {
   "cell_type": "code",
   "execution_count": 16,
   "id": "1a79220b",
   "metadata": {},
   "outputs": [],
   "source": [
    "df['tokens'] = df['text'].str.split()"
   ]
  },
  {
   "cell_type": "code",
   "execution_count": 17,
   "id": "a70ce96a",
   "metadata": {},
   "outputs": [
    {
     "data": {
      "text/html": [
       "<div>\n",
       "<style scoped>\n",
       "    .dataframe tbody tr th:only-of-type {\n",
       "        vertical-align: middle;\n",
       "    }\n",
       "\n",
       "    .dataframe tbody tr th {\n",
       "        vertical-align: top;\n",
       "    }\n",
       "\n",
       "    .dataframe thead th {\n",
       "        text-align: right;\n",
       "    }\n",
       "</style>\n",
       "<table border=\"1\" class=\"dataframe\">\n",
       "  <thead>\n",
       "    <tr style=\"text-align: right;\">\n",
       "      <th></th>\n",
       "      <th>sentiment</th>\n",
       "      <th>sentiment:confidence</th>\n",
       "      <th>text</th>\n",
       "      <th>tokens</th>\n",
       "    </tr>\n",
       "  </thead>\n",
       "  <tbody>\n",
       "    <tr>\n",
       "      <th>0</th>\n",
       "      <td>5</td>\n",
       "      <td>0.7579</td>\n",
       "      <td>two places id invest all my money if i could 3...</td>\n",
       "      <td>[two, places, id, invest, all, my, money, if, ...</td>\n",
       "    </tr>\n",
       "    <tr>\n",
       "      <th>1</th>\n",
       "      <td>5</td>\n",
       "      <td>0.8775</td>\n",
       "      <td>awesome google driverless cars will help the b...</td>\n",
       "      <td>[awesome, google, driverless, cars, will, help...</td>\n",
       "    </tr>\n",
       "    <tr>\n",
       "      <th>2</th>\n",
       "      <td>2</td>\n",
       "      <td>0.6805</td>\n",
       "      <td>if google maps cant keep up with road construc...</td>\n",
       "      <td>[if, google, maps, cant, keep, up, with, road,...</td>\n",
       "    </tr>\n",
       "    <tr>\n",
       "      <th>3</th>\n",
       "      <td>2</td>\n",
       "      <td>0.8820</td>\n",
       "      <td>autonomous cars seem way overhyped given the t...</td>\n",
       "      <td>[autonomous, cars, seem, way, overhyped, given...</td>\n",
       "    </tr>\n",
       "    <tr>\n",
       "      <th>4</th>\n",
       "      <td>3</td>\n",
       "      <td>1.0000</td>\n",
       "      <td>just saw google selfdriving car on i34 it was ...</td>\n",
       "      <td>[just, saw, google, selfdriving, car, on, i34,...</td>\n",
       "    </tr>\n",
       "    <tr>\n",
       "      <th>...</th>\n",
       "      <td>...</td>\n",
       "      <td>...</td>\n",
       "      <td>...</td>\n",
       "      <td>...</td>\n",
       "    </tr>\n",
       "    <tr>\n",
       "      <th>7151</th>\n",
       "      <td>0</td>\n",
       "      <td>0.5616</td>\n",
       "      <td>washington dc metro trains are all selfdriving...</td>\n",
       "      <td>[washington, dc, metro, trains, are, all, self...</td>\n",
       "    </tr>\n",
       "    <tr>\n",
       "      <th>7152</th>\n",
       "      <td>0</td>\n",
       "      <td>0.7293</td>\n",
       "      <td>i think darpa works on autonomous drone techno...</td>\n",
       "      <td>[i, think, darpa, works, on, autonomous, drone...</td>\n",
       "    </tr>\n",
       "    <tr>\n",
       "      <th>7153</th>\n",
       "      <td>0</td>\n",
       "      <td>0.8854</td>\n",
       "      <td>i love the idea of driving myself to the denti...</td>\n",
       "      <td>[i, love, the, idea, of, driving, myself, to, ...</td>\n",
       "    </tr>\n",
       "    <tr>\n",
       "      <th>7154</th>\n",
       "      <td>0</td>\n",
       "      <td>0.8431</td>\n",
       "      <td>who likes cars these days no me too expensive ...</td>\n",
       "      <td>[who, likes, cars, these, days, no, me, too, e...</td>\n",
       "    </tr>\n",
       "    <tr>\n",
       "      <th>7155</th>\n",
       "      <td>0</td>\n",
       "      <td>1.0000</td>\n",
       "      <td>my dream car is a pink cadillac id also need a...</td>\n",
       "      <td>[my, dream, car, is, a, pink, cadillac, id, al...</td>\n",
       "    </tr>\n",
       "  </tbody>\n",
       "</table>\n",
       "<p>7156 rows × 4 columns</p>\n",
       "</div>"
      ],
      "text/plain": [
       "      sentiment  sentiment:confidence  \\\n",
       "0             5                0.7579   \n",
       "1             5                0.8775   \n",
       "2             2                0.6805   \n",
       "3             2                0.8820   \n",
       "4             3                1.0000   \n",
       "...         ...                   ...   \n",
       "7151          0                0.5616   \n",
       "7152          0                0.7293   \n",
       "7153          0                0.8854   \n",
       "7154          0                0.8431   \n",
       "7155          0                1.0000   \n",
       "\n",
       "                                                   text  \\\n",
       "0     two places id invest all my money if i could 3...   \n",
       "1     awesome google driverless cars will help the b...   \n",
       "2     if google maps cant keep up with road construc...   \n",
       "3     autonomous cars seem way overhyped given the t...   \n",
       "4     just saw google selfdriving car on i34 it was ...   \n",
       "...                                                 ...   \n",
       "7151  washington dc metro trains are all selfdriving...   \n",
       "7152  i think darpa works on autonomous drone techno...   \n",
       "7153  i love the idea of driving myself to the denti...   \n",
       "7154  who likes cars these days no me too expensive ...   \n",
       "7155  my dream car is a pink cadillac id also need a...   \n",
       "\n",
       "                                                 tokens  \n",
       "0     [two, places, id, invest, all, my, money, if, ...  \n",
       "1     [awesome, google, driverless, cars, will, help...  \n",
       "2     [if, google, maps, cant, keep, up, with, road,...  \n",
       "3     [autonomous, cars, seem, way, overhyped, given...  \n",
       "4     [just, saw, google, selfdriving, car, on, i34,...  \n",
       "...                                                 ...  \n",
       "7151  [washington, dc, metro, trains, are, all, self...  \n",
       "7152  [i, think, darpa, works, on, autonomous, drone...  \n",
       "7153  [i, love, the, idea, of, driving, myself, to, ...  \n",
       "7154  [who, likes, cars, these, days, no, me, too, e...  \n",
       "7155  [my, dream, car, is, a, pink, cadillac, id, al...  \n",
       "\n",
       "[7156 rows x 4 columns]"
      ]
     },
     "execution_count": 17,
     "metadata": {},
     "output_type": "execute_result"
    }
   ],
   "source": [
    "df"
   ]
  },
  {
   "cell_type": "code",
   "execution_count": 82,
   "id": "c0e8c7be",
   "metadata": {},
   "outputs": [],
   "source": [
    "sentence_lengths = [len(tokens) for tokens in df['tokens']]\n",
    "vocab = sorted(list(set([word for tokens in df['tokens'] for word in tokens])))"
   ]
  },
  {
   "cell_type": "code",
   "execution_count": 81,
   "id": "3bc47fef",
   "metadata": {},
   "outputs": [
    {
     "data": {
      "image/png": "[encoded data removed]",
      "text/plain": [
       "<Figure size 720x720 with 1 Axes>"
      ]
     },
     "metadata": {
      "needs_background": "light"
     },
     "output_type": "display_data"
    }
   ],
   "source": [
    "plt.figure(figsize = (10,10))\n",
    "plt.xlabel('Sentence Length (in words)')\n",
    "plt.ylabel('Number of Tweets')\n",
    "plt.title('Sentence Lengths')\n",
    "plt.hist(sentence_lengths)\n",
    "plt.show()"
   ]
  },
  {
   "cell_type": "code",
   "execution_count": 80,
   "id": "f87adddc",
   "metadata": {},
   "outputs": [
    {
     "name": "stdout",
     "output_type": "stream",
     "text": [
      "Words in vocab:  12224\n"
     ]
    }
   ],
   "source": [
    "print('Words in vocab: ', len(vocab))"
   ]
  },
  {
   "cell_type": "code",
   "execution_count": 87,
   "id": "0a06a699",
   "metadata": {},
   "outputs": [],
   "source": [
    "all_words = sorted(list([word for tokens in df['tokens'] for word in tokens]))"
   ]
  },
  {
   "cell_type": "code",
   "execution_count": 95,
   "id": "bca94874",
   "metadata": {},
   "outputs": [],
   "source": [
    "mc_words = pd.DataFrame(Counter(all_words).most_common(20), columns=['words', 'count'])"
   ]
  },
  {
   "cell_type": "code",
   "execution_count": 98,
   "id": "850837bc",
   "metadata": {},
   "outputs": [
    {
     "data": {
      "image/png": "[encoded data removed]",
      "text/plain": [
       "<Figure size 576x576 with 1 Axes>"
      ]
     },
     "metadata": {
      "needs_background": "light"
     },
     "output_type": "display_data"
    }
   ],
   "source": [
    "fig, ax = plt.subplots(figsize=(8, 8))\n",
    "mc_words.sort_values(by='count', ascending='False').plot(kind='barh', x='words', ax=ax)\n",
    "ax.set_title(\"Common Words Found in Tweets (Including All Words)\")\n",
    "plt.show()"
   ]
  },
  {
   "cell_type": "code",
   "execution_count": 101,
   "id": "19cd249d",
   "metadata": {},
   "outputs": [],
   "source": [
    "stopwords_en = set(stopwords.words('english'))"
   ]
  },
  {
   "cell_type": "code",
   "execution_count": 102,
   "id": "debab941",
   "metadata": {},
   "outputs": [],
   "source": [
    "all_words_nsw = [word for word in all_words if word not in stopwords_en]"
   ]
  },
  {
   "cell_type": "code",
   "execution_count": 103,
   "id": "4d23c420",
   "metadata": {},
   "outputs": [],
   "source": [
    "mc_words_nsw = pd.DataFrame(Counter(all_words_nsw).most_common(20), columns=['words', 'count'])"
   ]
  },
  {
   "cell_type": "code",
   "execution_count": 104,
   "id": "fdacd5d4",
   "metadata": {},
   "outputs": [
    {
     "data": {
      "image/png": "[encoded data removed]",
      "text/plain": [
       "<Figure size 576x576 with 1 Axes>"
      ]
     },
     "metadata": {
      "needs_background": "light"
     },
     "output_type": "display_data"
    }
   ],
   "source": [
    "fig, ax = plt.subplots(figsize=(8, 8))\n",
    "mc_words_nsw.sort_values(by='count', ascending='False').plot(kind='barh', x='words', ax=ax)\n",
    "ax.set_title(\"Common Words Found in Tweets (Without Stop Words)\")\n",
    "plt.show()"
   ]
  },
  {
   "cell_type": "code",
   "execution_count": null,
   "id": "84f4e9ae",
   "metadata": {},
   "outputs": [],
   "source": []
  }
 ],
 "metadata": {
  "kernelspec": {
   "display_name": "Python 3",
   "language": "python",
   "name": "python3"
  },
  "language_info": {
   "codemirror_mode": {
    "name": "ipython",
    "version": 3
   },
   "file_extension": ".py",
   "mimetype": "text/x-python",
   "name": "python",
   "nbconvert_exporter": "python",
   "pygments_lexer": "ipython3",
   "version": "3.8.8"
  }
 },
 "nbformat": 4,
 "nbformat_minor": 5
}
